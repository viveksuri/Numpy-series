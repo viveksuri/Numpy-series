{
  "nbformat": 4,
  "nbformat_minor": 0,
  "metadata": {
    "colab": {
      "provenance": []
    },
    "kernelspec": {
      "name": "python3",
      "display_name": "Python 3"
    },
    "language_info": {
      "name": "python"
    }
  },
  "cells": [
    {
      "cell_type": "code",
      "execution_count": 1,
      "metadata": {
        "id": "Co3tiY69gpFV"
      },
      "outputs": [],
      "source": [
        "import numpy as np"
      ]
    },
    {
      "cell_type": "code",
      "source": [
        "\n",
        "arr = np.array([[7,3,8,6,4], [7,2,9,8,6],[5,4,2,3,1]])"
      ],
      "metadata": {
        "id": "5HU872Tbgwvp"
      },
      "execution_count": 2,
      "outputs": []
    },
    {
      "cell_type": "code",
      "source": [
        "arr"
      ],
      "metadata": {
        "colab": {
          "base_uri": "https://localhost:8080/"
        },
        "id": "yD0W_UY8gy27",
        "outputId": "7ac90b5e-bc90-4d4a-dc6c-bc6641425947"
      },
      "execution_count": 3,
      "outputs": [
        {
          "output_type": "execute_result",
          "data": {
            "text/plain": [
              "array([[7, 3, 8, 6, 4],\n",
              "       [7, 2, 9, 8, 6],\n",
              "       [5, 4, 2, 3, 1]])"
            ]
          },
          "metadata": {},
          "execution_count": 3
        }
      ]
    },
    {
      "cell_type": "code",
      "source": [
        "\n",
        "np.sort(arr , axis = 1, kind = 'mergesort')"
      ],
      "metadata": {
        "colab": {
          "base_uri": "https://localhost:8080/"
        },
        "id": "XYqe79mrg0WP",
        "outputId": "01764dab-7bc2-417c-fb88-711b94a39204"
      },
      "execution_count": 4,
      "outputs": [
        {
          "output_type": "execute_result",
          "data": {
            "text/plain": [
              "array([[3, 4, 6, 7, 8],\n",
              "       [2, 6, 7, 8, 9],\n",
              "       [1, 2, 3, 4, 5]])"
            ]
          },
          "metadata": {},
          "execution_count": 4
        }
      ]
    },
    {
      "cell_type": "code",
      "source": [
        "\n",
        "np.sort(arr , axis = 0, kind = 'mergesort')"
      ],
      "metadata": {
        "colab": {
          "base_uri": "https://localhost:8080/"
        },
        "id": "BF3-AlNng2T_",
        "outputId": "cf87855d-8f32-4fbd-d4fc-102d7c1a8794"
      },
      "execution_count": 5,
      "outputs": [
        {
          "output_type": "execute_result",
          "data": {
            "text/plain": [
              "array([[5, 2, 2, 3, 1],\n",
              "       [7, 3, 8, 6, 4],\n",
              "       [7, 4, 9, 8, 6]])"
            ]
          },
          "metadata": {},
          "execution_count": 5
        }
      ]
    },
    {
      "cell_type": "code",
      "source": [
        "np.sort(arr , kind = 'mergesort')"
      ],
      "metadata": {
        "colab": {
          "base_uri": "https://localhost:8080/"
        },
        "id": "A5dBzeVXg4fA",
        "outputId": "658ccf94-fb9a-4fd3-ee3b-a503dce78e33"
      },
      "execution_count": 6,
      "outputs": [
        {
          "output_type": "execute_result",
          "data": {
            "text/plain": [
              "array([[3, 4, 6, 7, 8],\n",
              "       [2, 6, 7, 8, 9],\n",
              "       [1, 2, 3, 4, 5]])"
            ]
          },
          "metadata": {},
          "execution_count": 6
        }
      ]
    },
    {
      "cell_type": "code",
      "source": [],
      "metadata": {
        "id": "cx1hPUDog6ec"
      },
      "execution_count": null,
      "outputs": []
    }
  ]
}