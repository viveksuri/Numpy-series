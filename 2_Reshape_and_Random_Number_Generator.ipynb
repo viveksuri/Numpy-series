{
  "nbformat": 4,
  "nbformat_minor": 0,
  "metadata": {
    "colab": {
      "provenance": []
    },
    "kernelspec": {
      "name": "python3",
      "display_name": "Python 3"
    },
    "language_info": {
      "name": "python"
    }
  },
  "cells": [
    {
      "cell_type": "code",
      "execution_count": 1,
      "metadata": {
        "id": "zW5ETkn0UlBB"
      },
      "outputs": [],
      "source": [
        "import numpy as np"
      ]
    },
    {
      "cell_type": "code",
      "source": [
        "\n",
        "np.random.random((3,3))"
      ],
      "metadata": {
        "colab": {
          "base_uri": "https://localhost:8080/"
        },
        "id": "FLMukK8jUt7U",
        "outputId": "1aac4c2e-858a-4a83-85ae-8127eecb8ec3"
      },
      "execution_count": 2,
      "outputs": [
        {
          "output_type": "execute_result",
          "data": {
            "text/plain": [
              "array([[0.30456065, 0.02030551, 0.07056109],\n",
              "       [0.7085777 , 0.50289764, 0.50590614],\n",
              "       [0.26258516, 0.25256029, 0.79394558]])"
            ]
          },
          "metadata": {},
          "execution_count": 2
        }
      ]
    },
    {
      "cell_type": "code",
      "source": [
        "arr = np.random.random((3,3))"
      ],
      "metadata": {
        "id": "cLwvEEjeUwXD"
      },
      "execution_count": 3,
      "outputs": []
    },
    {
      "cell_type": "code",
      "source": [
        "np.arange(1,10,3)"
      ],
      "metadata": {
        "colab": {
          "base_uri": "https://localhost:8080/"
        },
        "id": "XTR8p5ZYU0DS",
        "outputId": "92d4b679-a8c9-41d0-91b4-4ace8d7f375b"
      },
      "execution_count": 4,
      "outputs": [
        {
          "output_type": "execute_result",
          "data": {
            "text/plain": [
              "array([1, 4, 7])"
            ]
          },
          "metadata": {},
          "execution_count": 4
        }
      ]
    },
    {
      "cell_type": "code",
      "source": [
        "np.linspace(1,7,10)"
      ],
      "metadata": {
        "colab": {
          "base_uri": "https://localhost:8080/"
        },
        "id": "bFNwlFEsU-xU",
        "outputId": "6fb440e4-d447-499b-8572-1c4c5fdbc0b1"
      },
      "execution_count": 5,
      "outputs": [
        {
          "output_type": "execute_result",
          "data": {
            "text/plain": [
              "array([1.        , 1.66666667, 2.33333333, 3.        , 3.66666667,\n",
              "       4.33333333, 5.        , 5.66666667, 6.33333333, 7.        ])"
            ]
          },
          "metadata": {},
          "execution_count": 5
        }
      ]
    },
    {
      "cell_type": "code",
      "source": [
        "arr = np.random.random((4,3))"
      ],
      "metadata": {
        "id": "2-ma0lpLVBK5"
      },
      "execution_count": 6,
      "outputs": []
    },
    {
      "cell_type": "code",
      "source": [
        "arr"
      ],
      "metadata": {
        "colab": {
          "base_uri": "https://localhost:8080/"
        },
        "id": "SiKlkAsyVECZ",
        "outputId": "e56d7e0c-a1ed-4c1b-dbc5-d32077eb1a43"
      },
      "execution_count": 7,
      "outputs": [
        {
          "output_type": "execute_result",
          "data": {
            "text/plain": [
              "array([[0.20013812, 0.26775171, 0.85132084],\n",
              "       [0.12899009, 0.83857359, 0.69755445],\n",
              "       [0.81057816, 0.36856983, 0.33855102],\n",
              "       [0.87507336, 0.94091869, 0.68552869]])"
            ]
          },
          "metadata": {},
          "execution_count": 7
        }
      ]
    },
    {
      "cell_type": "code",
      "source": [
        "arr = np.reshape(arr , (3,4))"
      ],
      "metadata": {
        "id": "2sVp8cLDVGim"
      },
      "execution_count": 8,
      "outputs": []
    },
    {
      "cell_type": "code",
      "source": [
        "\n",
        "arr"
      ],
      "metadata": {
        "colab": {
          "base_uri": "https://localhost:8080/"
        },
        "id": "mHMttLEVVJgu",
        "outputId": "1165d813-8607-412c-e25c-f2bb5cb91314"
      },
      "execution_count": 9,
      "outputs": [
        {
          "output_type": "execute_result",
          "data": {
            "text/plain": [
              "array([[0.20013812, 0.26775171, 0.85132084, 0.12899009],\n",
              "       [0.83857359, 0.69755445, 0.81057816, 0.36856983],\n",
              "       [0.33855102, 0.87507336, 0.94091869, 0.68552869]])"
            ]
          },
          "metadata": {},
          "execution_count": 9
        }
      ]
    },
    {
      "cell_type": "code",
      "source": [
        "arr = np.reshape(arr , (6,2))"
      ],
      "metadata": {
        "id": "4ggmSd0HVLXE"
      },
      "execution_count": 10,
      "outputs": []
    },
    {
      "cell_type": "code",
      "source": [
        "arr"
      ],
      "metadata": {
        "colab": {
          "base_uri": "https://localhost:8080/"
        },
        "id": "0iCCA8LJVODO",
        "outputId": "1a7a766f-0dac-49fa-959a-2bd3ff4ab03f"
      },
      "execution_count": 11,
      "outputs": [
        {
          "output_type": "execute_result",
          "data": {
            "text/plain": [
              "array([[0.20013812, 0.26775171],\n",
              "       [0.85132084, 0.12899009],\n",
              "       [0.83857359, 0.69755445],\n",
              "       [0.81057816, 0.36856983],\n",
              "       [0.33855102, 0.87507336],\n",
              "       [0.94091869, 0.68552869]])"
            ]
          },
          "metadata": {},
          "execution_count": 11
        }
      ]
    },
    {
      "cell_type": "code",
      "source": [
        "arr.flatten()"
      ],
      "metadata": {
        "colab": {
          "base_uri": "https://localhost:8080/"
        },
        "id": "nOnLPIU6VQ3Y",
        "outputId": "e1b6541d-abbc-4a90-df4a-aa1c23993d18"
      },
      "execution_count": 12,
      "outputs": [
        {
          "output_type": "execute_result",
          "data": {
            "text/plain": [
              "array([0.20013812, 0.26775171, 0.85132084, 0.12899009, 0.83857359,\n",
              "       0.69755445, 0.81057816, 0.36856983, 0.33855102, 0.87507336,\n",
              "       0.94091869, 0.68552869])"
            ]
          },
          "metadata": {},
          "execution_count": 12
        }
      ]
    },
    {
      "cell_type": "code",
      "source": [],
      "metadata": {
        "id": "xMX5WF2uVTx1"
      },
      "execution_count": null,
      "outputs": []
    }
  ]
}