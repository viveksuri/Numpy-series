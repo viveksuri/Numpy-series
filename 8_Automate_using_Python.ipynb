{
  "nbformat": 4,
  "nbformat_minor": 0,
  "metadata": {
    "colab": {
      "provenance": []
    },
    "kernelspec": {
      "name": "python3",
      "display_name": "Python 3"
    },
    "language_info": {
      "name": "python"
    }
  },
  "cells": [
    {
      "cell_type": "code",
      "execution_count": 1,
      "metadata": {
        "id": "tnp3jYPTmMvF"
      },
      "outputs": [],
      "source": [
        "\n",
        "import numpy as np"
      ]
    },
    {
      "cell_type": "code",
      "source": [
        "\n",
        "lst = [1,2,3,4,5,6,7,8,9,10]"
      ],
      "metadata": {
        "id": "94MzgFZ1mQ5l"
      },
      "execution_count": 2,
      "outputs": []
    },
    {
      "cell_type": "code",
      "source": [
        "q = 0\n",
        "\n",
        "for i in lst:\n",
        "  if (i > 5):\n",
        "    print(i)\n",
        "    q += 1\n",
        "\n",
        "print(q)"
      ],
      "metadata": {
        "colab": {
          "base_uri": "https://localhost:8080/"
        },
        "id": "k9cfAdimmSpe",
        "outputId": "9613dcf2-a8e8-4c0c-b1f8-02d86ffe45eb"
      },
      "execution_count": 3,
      "outputs": [
        {
          "output_type": "stream",
          "name": "stdout",
          "text": [
            "6\n",
            "7\n",
            "8\n",
            "9\n",
            "10\n",
            "5\n"
          ]
        }
      ]
    },
    {
      "cell_type": "code",
      "source": [
        "lst = np.array([1,2,3,4,5,6,7,8,9,10])"
      ],
      "metadata": {
        "id": "mWQqId3RmUtq"
      },
      "execution_count": 4,
      "outputs": []
    },
    {
      "cell_type": "code",
      "source": [
        "print(len(lst[lst > 5]))\n",
        "print(lst[lst>5])"
      ],
      "metadata": {
        "colab": {
          "base_uri": "https://localhost:8080/"
        },
        "id": "XFl-rOiSmWvB",
        "outputId": "77cb9fd9-a855-4557-cc30-f77d138a8982"
      },
      "execution_count": 5,
      "outputs": [
        {
          "output_type": "stream",
          "name": "stdout",
          "text": [
            "5\n",
            "[ 6  7  8  9 10]\n"
          ]
        }
      ]
    },
    {
      "cell_type": "code",
      "source": [
        "print(len(lst[lst % 3 == 0]))\n",
        "print(lst[lst % 3 == 0])"
      ],
      "metadata": {
        "colab": {
          "base_uri": "https://localhost:8080/"
        },
        "id": "tmkaQ1TcmYiG",
        "outputId": "d2a32b4e-f80a-448b-a304-baaba2aca8de"
      },
      "execution_count": 6,
      "outputs": [
        {
          "output_type": "stream",
          "name": "stdout",
          "text": [
            "3\n",
            "[3 6 9]\n"
          ]
        }
      ]
    },
    {
      "cell_type": "code",
      "source": [],
      "metadata": {
        "id": "20Oh3pY5mai1"
      },
      "execution_count": null,
      "outputs": []
    }
  ]
}